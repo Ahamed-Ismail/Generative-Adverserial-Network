{
 "cells": [
  {
   "cell_type": "code",
   "execution_count": 107,
   "id": "5c469862",
   "metadata": {},
   "outputs": [],
   "source": [
    "import tensorflow as tf\n",
    "from tensorflow.keras import layers\n",
    "from tensorflow.keras import Sequential\n",
    "import matplotlib.pyplot as plt\n",
    "import time\n",
    "from IPython import display\n",
    "import os"
   ]
  },
  {
   "cell_type": "code",
   "execution_count": 5,
   "id": "c16604f4",
   "metadata": {},
   "outputs": [],
   "source": [
    "(train_img,train_lable),(_,_)=tf.keras.datasets.mnist.load_data()"
   ]
  },
  {
   "cell_type": "code",
   "execution_count": 12,
   "id": "960c3117",
   "metadata": {},
   "outputs": [],
   "source": [
    "train_img=train_img.reshape(60000,28,28,1).astype('float32')\n",
    "train_img=(train_img-127.5)/127.5   #[-1,1]"
   ]
  },
  {
   "cell_type": "code",
   "execution_count": 11,
   "id": "353d494c",
   "metadata": {},
   "outputs": [
    {
     "data": {
      "text/plain": [
       "127.5"
      ]
     },
     "execution_count": 11,
     "metadata": {},
     "output_type": "execute_result"
    }
   ],
   "source": [
    "# max(train_img.reshape(1,-1)[0])/2"
   ]
  },
  {
   "cell_type": "code",
   "execution_count": 13,
   "id": "7070f0e4",
   "metadata": {},
   "outputs": [],
   "source": [
    "BUFFER_SIZE=60000\n",
    "BATCH_SIZE=256"
   ]
  },
  {
   "cell_type": "code",
   "execution_count": 21,
   "id": "3a7f756f",
   "metadata": {},
   "outputs": [],
   "source": [
    "train_dataset=tf.data.Dataset.from_tensor_slices(train_img).shuffle(BUFFER_SIZE).batch(BATCH_SIZE)"
   ]
  },
  {
   "cell_type": "code",
   "execution_count": 22,
   "id": "c984bd30",
   "metadata": {},
   "outputs": [
    {
     "data": {
      "text/plain": [
       "(TensorShape([256, 28, 28, 1]), 235)"
      ]
     },
     "execution_count": 22,
     "metadata": {},
     "output_type": "execute_result"
    }
   ],
   "source": [
    "next(iter(train_dataset)).shape, len(train_dataset) #shape of one batch, no:of batches"
   ]
  },
  {
   "cell_type": "markdown",
   "id": "9f1552d2",
   "metadata": {},
   "source": [
    "# Model"
   ]
  },
  {
   "cell_type": "code",
   "execution_count": 54,
   "id": "29697e66",
   "metadata": {},
   "outputs": [],
   "source": [
    "def make_generator_model():\n",
    "    model= Sequential()\n",
    "    \n",
    "    model.add(layers.Dense((7*7*256), use_bias=False,input_shape=(100,)))   #noise of(100,) to a vector of(7*7*256)\n",
    "    model.add(layers.BatchNormalization())\n",
    "    model.add(layers.LeakyReLU())\n",
    "    \n",
    "    model.add(layers.Reshape((7,7,256)))  #reverse of Flatten()\n",
    "    \n",
    "    assert model.output_shape==(None,7,7,256)\n",
    "    \n",
    "    model.add(layers.Conv2DTranspose(128, (5,5), strides=(1,1), padding='same', use_bias=False)) #128- depth\n",
    "    assert model.output_shape==((None,7,7,128))\n",
    "    model.add(layers.BatchNormalization())\n",
    "    model.add(layers.LeakyReLU())\n",
    "    \n",
    "    model.add(layers.Conv2DTranspose(64, (5,5), strides=(2,2), padding='same', use_bias=False)) #128- depth\n",
    "    assert model.output_shape==((None,14,14,64))\n",
    "    model.add(layers.BatchNormalization())\n",
    "    model.add(layers.LeakyReLU())\n",
    "    \n",
    "    model.add(layers.Conv2DTranspose(1, (5,5), strides=(2,2), padding='same', use_bias=False)) #128- depth\n",
    "    assert model.output_shape==((None,28,28,1))\n",
    "    \n",
    "    return model"
   ]
  },
  {
   "cell_type": "code",
   "execution_count": 56,
   "id": "8e8376d4",
   "metadata": {},
   "outputs": [
    {
     "data": {
      "text/plain": [
       "<matplotlib.image.AxesImage at 0x1c55638e020>"
      ]
     },
     "execution_count": 56,
     "metadata": {},
     "output_type": "execute_result"
    },
    {
     "data": {
      "image/png": "[encoded data removed]",
      "text/plain": [
       "<Figure size 640x480 with 1 Axes>"
      ]
     },
     "metadata": {},
     "output_type": "display_data"
    }
   ],
   "source": [
    "#example noise image\n",
    "noise=tf.random.normal([1,100])\n",
    "noise.shape\n",
    "\n",
    "generator=make_generator_model()\n",
    "\n",
    "generated_img=generator(noise, training=False)\n",
    "\n",
    "plt.imshow(generated_img[0,:,:,:], cmap='gray')"
   ]
  },
  {
   "cell_type": "code",
   "execution_count": 90,
   "id": "80e92da2",
   "metadata": {},
   "outputs": [],
   "source": [
    "def make_discriminator_model():\n",
    "    model=Sequential()\n",
    "    \n",
    "    model.add(layers.Conv2D(64, (5,5), strides=(2,2), padding='same', input_shape=(28,28,1)))\n",
    "    model.add(layers.LeakyReLU())\n",
    "    model.add(layers.Dropout(0.3))\n",
    "    \n",
    "    model.add(layers.Conv2D(128, (5,5), strides=(2,2), padding='same', input_shape=(28,28,1)))\n",
    "    model.add(layers.LeakyReLU())\n",
    "    model.add(layers.Dropout(0.3))\n",
    "    \n",
    "    model.add(layers.Flatten())\n",
    "    model.add(layers.Dense(1))   # to produce a real value\n",
    "    \n",
    "    return model"
   ]
  },
  {
   "cell_type": "code",
   "execution_count": 91,
   "id": "96d5c416",
   "metadata": {},
   "outputs": [
    {
     "name": "stdout",
     "output_type": "stream",
     "text": [
      "tf.Tensor([[0.00238151]], shape=(1, 1), dtype=float32)\n"
     ]
    }
   ],
   "source": [
    "discriminator=make_discriminator_model()\n",
    "decision=discriminator(generated_img, training=False)\n",
    "print(decision)"
   ]
  },
  {
   "cell_type": "markdown",
   "id": "56a10c35",
   "metadata": {},
   "source": [
    "# Optimizer and loss"
   ]
  },
  {
   "cell_type": "code",
   "execution_count": 92,
   "id": "f6174ea3",
   "metadata": {},
   "outputs": [],
   "source": [
    "cross_entropy_loss=tf.keras.losses.BinaryCrossentropy(from_logits=True)"
   ]
  },
  {
   "cell_type": "code",
   "execution_count": 95,
   "id": "25197d9b",
   "metadata": {},
   "outputs": [],
   "source": [
    "def discriminator_loss(real_output, fake_output):\n",
    "    loss_real=cross_entropy_loss(tf.ones_like(real_output), real_output)   #real must be closer to 1\n",
    "    loss_fake=cross_entropy_loss(tf.zeros_like(fake_output),fake_output)   #fake must be closer to zero \n",
    "    \n",
    "    return loss_real+loss_fake"
   ]
  },
  {
   "cell_type": "code",
   "execution_count": 135,
   "id": "b4700ea1",
   "metadata": {},
   "outputs": [],
   "source": [
    "def generator_loss(fake_output):\n",
    "    loss_fake=cross_entropy_loss(tf.ones_like(fake_output), fake_output)   #fake must be closer to 1\n",
    "    return loss_fake"
   ]
  },
  {
   "cell_type": "code",
   "execution_count": 99,
   "id": "f50dfa77",
   "metadata": {},
   "outputs": [],
   "source": [
    "generator_optimizer = tf.keras.optimizers.Adam(1e-4)\n",
    "discriminator_optimizer = tf.keras.optimizers.Adam(1e-4)"
   ]
  },
  {
   "cell_type": "code",
   "execution_count": 108,
   "id": "aa276f6b",
   "metadata": {},
   "outputs": [],
   "source": [
    "checkpoint_dir = './training_checkpoints'\n",
    "checkpoint_prefix = os.path.join(checkpoint_dir, \"ckpt\")\n",
    "checkpoint = tf.train.Checkpoint(generator_optimizer=generator_optimizer,\n",
    "                                 discriminator_optimizer=discriminator_optimizer,\n",
    "                                 generator=generator,\n",
    "                                 discriminator=discriminator)"
   ]
  },
  {
   "cell_type": "markdown",
   "id": "baa0c7a7",
   "metadata": {},
   "source": [
    "# Model Training"
   ]
  },
  {
   "cell_type": "code",
   "execution_count": 125,
   "id": "583989b9",
   "metadata": {},
   "outputs": [],
   "source": [
    "num_samples=16\n",
    "noise_dim=100\n",
    "EPOCHES=50\n",
    "\n",
    "seed=tf.random.normal([num_samples, noise_dim])"
   ]
  },
  {
   "cell_type": "code",
   "execution_count": 137,
   "id": "db40a283",
   "metadata": {},
   "outputs": [],
   "source": [
    "@tf.function\n",
    "def train_step(images):\n",
    "    noise=tf.random.normal([BATCH_SIZE, noise_dim])\n",
    "    \n",
    "    with tf.GradientTape() as generator_tape, tf.GradientTape() as discriminator_tape:\n",
    "        generated_images=generator(noise, training=True)\n",
    "        \n",
    "        real_output=discriminator(images, training=True)\n",
    "        fake_output=discriminator(generated_images, training=True)\n",
    "        \n",
    "        generator_losss=generator_loss(fake_output)\n",
    "        discriminator_losss=discriminator_loss(real_output, fake_output)\n",
    "        \n",
    "        gradients_of_generator=generator_tape.gradient(generator_losss, generator.trainable_variables)\n",
    "        gradients_of_discriminator=discriminator_tape.gradient(discriminator_losss, discriminator.trainable_variables)\n",
    "        \n",
    "        generator_optimizer.apply_gradients(zip(gradients_of_generator,generator.trainable_variables))\n",
    "        discriminator_optimizer.apply_gradients(zip(gradients_of_discriminator,discriminator.trainable_variables))        "
   ]
  },
  {
   "cell_type": "code",
   "execution_count": 131,
   "id": "b6cdf67b",
   "metadata": {},
   "outputs": [],
   "source": [
    "def train(dataset, epochs):\n",
    "    for epoch in range(epochs):\n",
    "        start_time=time.time()\n",
    "        \n",
    "        for image_batch in dataset:\n",
    "            train_step(image_batch)\n",
    "        \n",
    "        display.clear_output(wait=True)\n",
    "        generate_and_save_images(generator, epoch+1, seed)\n",
    "        \n",
    "        if((epoch+1)%15)==0:\n",
    "            checkpoint.save(file_prefix=checkpoint_prefix)\n",
    "            \n",
    "        print(f'time for epoch {epoch+1} is {time.time()-start_time}')\n",
    "    display.clear_output(wait=True)\n",
    "    generate_and_save_images(generator, epoch+1, seed)"
   ]
  },
  {
   "cell_type": "code",
   "execution_count": 132,
   "id": "43cfde44",
   "metadata": {},
   "outputs": [],
   "source": [
    "def generate_and_save_images(model, epoch, test_input):\n",
    "  # Notice `training` is set to False.\n",
    "  # This is so all layers run in inference mode (batchnorm).\n",
    "    predictions = model(test_input, training=False)\n",
    "\n",
    "    fig = plt.figure(figsize=(4, 4))\n",
    "\n",
    "    for i in range(predictions.shape[0]):\n",
    "        plt.subplot(4, 4, i+1)\n",
    "        plt.imshow(predictions[i, :, :, 0] * 127.5 + 127.5, cmap='gray')\n",
    "        plt.axis('off')\n",
    "\n",
    "    plt.savefig('image_at_epoch_{:04d}.png'.format(epoch))\n",
    "    plt.show()"
   ]
  },
  {
   "cell_type": "code",
   "execution_count": null,
   "id": "8678a523",
   "metadata": {},
   "outputs": [],
   "source": [
    "train(train_dataset, EPOCHES)"
   ]
  }
 ],
 "metadata": {
  "kernelspec": {
   "display_name": "Python 3 (ipykernel)",
   "language": "python",
   "name": "python3"
  },
  "language_info": {
   "codemirror_mode": {
    "name": "ipython",
    "version": 3
   },
   "file_extension": ".py",
   "mimetype": "text/x-python",
   "name": "python",
   "nbconvert_exporter": "python",
   "pygments_lexer": "ipython3",
   "version": "3.10.0"
  }
 },
 "nbformat": 4,
 "nbformat_minor": 5
}
